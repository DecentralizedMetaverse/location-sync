{
 "cells": [
  {
   "cell_type": "markdown",
   "metadata": {},
   "source": [
    "# シミュレーション設定"
   ]
  },
  {
   "cell_type": "markdown",
   "metadata": {},
   "source": [
    "## 最短ノード探索用"
   ]
  },
  {
   "cell_type": "code",
   "execution_count": 51,
   "metadata": {},
   "outputs": [],
   "source": [
    "# Linux用\n",
    "num = 100\n",
    "args =f\"1000 $1 $2 1000 1000 0 0 0 500\"\n",
    "txt = f\"python main.py {args} \"\n",
    "\n",
    "for i in range(num-1):\n",
    "    t = f\"| python main.py {args} \"\n",
    "    txt += t    \n",
    "f = open(f\"exe1.sh\", \"w\")\n",
    "f.write(txt)\n",
    "f.close()"
   ]
  },
  {
   "cell_type": "code",
   "execution_count": 52,
   "metadata": {},
   "outputs": [],
   "source": [
    "# txt=\"#!/bin/bash\\n\"\n",
    "txt=\"import subprocess\\n\"\n",
    "for i in range(1,21):\n",
    "    txt+=f\"subprocess.call(\\\"tmux new-window -t ':{i}' -d\\\", shell=True)\\n\"    \n",
    "    txt+=f\"subprocess.call(\\\"tmux send-keys -t ':{i}' 'sh exe1.sh {i} {i}' C-m\\\", shell=True)\\n\"\n",
    "f = open(f\"exe1.py\", \"w\")\n",
    "f.write(txt)\n",
    "f.close()\n"
   ]
  },
  {
   "cell_type": "markdown",
   "metadata": {},
   "source": [
    "## 移動の評価用"
   ]
  },
  {
   "cell_type": "markdown",
   "metadata": {},
   "source": [
    "### 空間の密度\n",
    "speed/packet = 20/60 = x/1\n",
    "\n",
    "最小値：6sで1回のパケット送る  1s = 0.166...\n",
    "\n",
    "最大値: 6sで60回のパケット送る 1s = 10"
   ]
  },
  {
   "cell_type": "code",
   "execution_count": 46,
   "metadata": {},
   "outputs": [
    {
     "name": "stdout",
     "output_type": "stream",
     "text": [
      "[1, 5, 10, 15, 20, 25, 30, 35, 40, 45, 50, 55, 60, 65, 70, 75, 80, 85, 90, 95] 20\n",
      "[400.0, 80.0, 40.0, 26.666666666666664, 20.0, 16.0, 13.333333333333332, 11.428571428571427, 10.0, 8.88888888888889, 8.0, 7.272727272727273, 6.666666666666666, 6.153846153846154, 5.7142857142857135, 5.333333333333333, 5.0, 4.705882352941177, 4.444444444444445, 4.2105263157894735]\n"
     ]
    }
   ],
   "source": [
    "# from fractions import Fraction\n",
    "space = 2000  # m\n",
    "speed = 20 # m/s\n",
    "# time = 6 # s\n",
    "# packet = [i * 3 for i in range(1,21)] # /s\n",
    "time = 10 # s\n",
    "packet = [i+1 if i == 0 else i for i in range(0,100,5)] # /s\n",
    "print(packet, len(packet))\n",
    "# -----------------------\n",
    "space_a = 1000  # \n",
    "sp_li = []\n",
    "for pa in packet:\n",
    "    d = (speed/pa) * (space/space_a) * time  # 1パケット当たりの進む速さ\n",
    "    sp_li.append(d)    \n",
    "    # a = Fraction(d).limit_denominator(100000)\n",
    "    # print(pa, d,a.numerator, a.denominator)\n",
    "print(sp_li)\n"
   ]
  },
  {
   "cell_type": "code",
   "execution_count": 47,
   "metadata": {},
   "outputs": [],
   "source": [
    "# Linux用\n",
    "num = 100\n",
    "i = 0\n",
    "args =f\"1000 $1 $1 1000 1000 {sp_li[i]} 0 0 1000\"\n",
    "txt = f\"python3 main.py {args} \"\n",
    "\n",
    "for i in range(len(sp_li)-1):\n",
    "    args =f\"1000 $1 $1 1000 1000 {sp_li[i+1]} 0 0 1000\"\n",
    "    t = f\"| python3 main.py {args} \"\n",
    "    txt += t\n",
    "f = open(f\"exe2.sh\", \"w\")\n",
    "f.write(txt)\n",
    "f.close()"
   ]
  },
  {
   "cell_type": "code",
   "execution_count": 48,
   "metadata": {},
   "outputs": [],
   "source": [
    "# txt=\"#!/bin/bash\\n\"\n",
    "txt=\"import subprocess\\n\"\n",
    "\n",
    "for i in range(3,21):    \n",
    "    txt+=f\"subprocess.call(\\\"tmux new-window -t ':{i}' -d\\\", shell=True)\\n\"    \n",
    "    txt+=f\"subprocess.call(\\\"tmux send-keys -t ':{i}' 'sh exe2.sh {i}' C-m\\\", shell=True)\\n\"\n",
    "f = open(f\"exe2.py\", \"w\")\n",
    "f.write(txt)\n",
    "f.close()\n"
   ]
  },
  {
   "attachments": {},
   "cell_type": "markdown",
   "metadata": {},
   "source": [
    "# GIF画像の作成"
   ]
  },
  {
   "cell_type": "code",
   "execution_count": 9,
   "metadata": {},
   "outputs": [],
   "source": [
    "import imageio\n",
    "import glob\n",
    "\n",
    "# 画像のパスのリストを作成する\n",
    "image_paths = glob.glob('./screenshot/*.jpg')\n",
    "\n",
    "# 画像を読み込んでGIFアニメーションを作成する\n",
    "images = []\n",
    "for path in image_paths:\n",
    "    images.append(imageio.imread(path))\n",
    "imageio.mimsave('animation.gif', images, fps=3)"
   ]
  }
 ],
 "metadata": {
  "kernelspec": {
   "display_name": "base",
   "language": "python",
   "name": "python3"
  },
  "language_info": {
   "codemirror_mode": {
    "name": "ipython",
    "version": 3
   },
   "file_extension": ".py",
   "mimetype": "text/x-python",
   "name": "python",
   "nbconvert_exporter": "python",
   "pygments_lexer": "ipython3",
   "version": "3.8.5 (default, Sep  3 2020, 21:29:08) [MSC v.1916 64 bit (AMD64)]"
  },
  "orig_nbformat": 4,
  "vscode": {
   "interpreter": {
    "hash": "3afbca1cf12fc874daa474ae894d1c55c287fdba42afae47be5c28331ff984cc"
   }
  }
 },
 "nbformat": 4,
 "nbformat_minor": 2
}
